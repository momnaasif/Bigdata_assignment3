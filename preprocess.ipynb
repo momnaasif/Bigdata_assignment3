{
 "cells": [
  {
   "cell_type": "code",
   "execution_count": 2,
   "metadata": {},
   "outputs": [
    {
     "name": "stderr",
     "output_type": "stream",
     "text": [
      "0it [00:00, ?it/s]"
     ]
    },
    {
     "name": "stderr",
     "output_type": "stream",
     "text": [
      "451921it [00:21, 20749.64it/s]"
     ]
    },
    {
     "name": "stdout",
     "output_type": "stream",
     "text": [
      "Finished sampling. Output size: 0.50 GB\n"
     ]
    },
    {
     "name": "stderr",
     "output_type": "stream",
     "text": [
      "\n"
     ]
    }
   ],
   "source": [
    "import json\n",
    "import os\n",
    "from tqdm import tqdm  # Corrected from tqdn to tqdm\n",
    "\n",
    "def sample_json(input_file, output_file, target_size_gb, filter_key='also_buy'):  # Corrected filter_keys to filter_key\n",
    "    target_size_bytes = target_size_gb * 1024 ** 3\n",
    "    current_size_bytes = 0\n",
    "\n",
    "    with open(input_file, 'r', encoding='utf-8') as infile, open(output_file, 'w', encoding='utf-8') as outfile:\n",
    "        for line in tqdm(infile):  # Corrected tqdn to tqdm\n",
    "            record = json.loads(line)\n",
    "\n",
    "            if record.get(filter_key):  # Ensures that the filter_key exists in the record\n",
    "                outfile.write(json.dumps(record) + '\\n')\n",
    "                current_size_bytes += len(line.encode('utf-8'))  # Corrected current_size_byte to current_size_bytes\n",
    "\n",
    "            if current_size_bytes >= target_size_bytes:\n",
    "                break\n",
    "\n",
    "    # Corrected the format string syntax in the print statement\n",
    "    print(f\"Finished sampling. Output size: {current_size_bytes / 1024**3:.2f} GB\")\n",
    "\n",
    "\n",
    "\n",
    "sample_json('data.json','data_.5.json',0.5)\n",
    "\n"
   ]
  },
  {
   "cell_type": "code",
   "execution_count": 3,
   "metadata": {},
   "outputs": [
    {
     "name": "stdout",
     "output_type": "stream",
     "text": [
      "                                            category tech1  \\\n",
      "0  [Clothing, Shoes & Jewelry, Men, Clothing, Jea...         \n",
      "1  [Clothing, Shoes & Jewelry, Women, Accessories...         \n",
      "2  [Clothing, Shoes & Jewelry, Women, Clothing, L...         \n",
      "3  [Clothing, Shoes & Jewelry, Women, Clothing, D...         \n",
      "4  [Clothing, Shoes & Jewelry, Women, Clothing, L...         \n",
      "\n",
      "                                         description  \\\n",
      "0  [<b>pant size(Unit:inch)</b><br> W30(tag30) Wa...   \n",
      "1  [Feature <br> -Great quality winter scarf. <br...   \n",
      "2  [Material : Core-spun fabric silk <br> feature...   \n",
      "3  [Material : Core-spun fabric silk <br> feature...   \n",
      "4  [Material : Core-spun fabric silk <br> feature...   \n",
      "\n",
      "                                                 fit  \\\n",
      "0   class=\"a-normal a-align-center a-spacing-smal...   \n",
      "1                                                      \n",
      "2   class=\"a-normal a-align-center a-spacing-smal...   \n",
      "3   class=\"a-normal a-align-center a-spacing-smal...   \n",
      "4                                                      \n",
      "\n",
      "                                               title  \\\n",
      "0  QIBOE Men's Baggy Jeans Denim Sweatpants Loose...   \n",
      "1            Crazy Women's Voile Crinkle Scarf Shawl   \n",
      "2  FQQ Women Sexy Lingerie Lace Dress Sheer Babyd...   \n",
      "3  Crazy Women's Sexy Leather Backless Bodycon Cl...   \n",
      "4  FQQ Women's Sexy Lingerie Babydoll Dress Sleep...   \n",
      "\n",
      "                                            also_buy  \\\n",
      "0  [B077GQQKRV, B07CBJQTF6, B07H2Z6S9J, B06Y26PZ5...   \n",
      "1  [B018YRBB80, B07FD9HWPM, B017M55DI4, B07KX6PPW...   \n",
      "2                                       [B00VBVXVPI]   \n",
      "3  [B01AHZSZ9A, B01I809NCO, B07219C7LQ, B06ZZBQMT...   \n",
      "4  [B06XY5N95G, B01LY4VKTL, B01EKRMG8C, B004SLKRY...   \n",
      "\n",
      "                                               image tech2  brand  \\\n",
      "0  [https://images-na.ssl-images-amazon.com/image...        QIBOE   \n",
      "1  [https://images-na.ssl-images-amazon.com/image...        Crazy   \n",
      "2  [https://images-na.ssl-images-amazon.com/image...          FQQ   \n",
      "3  [https://images-na.ssl-images-amazon.com/image...        Crazy   \n",
      "4  [https://images-na.ssl-images-amazon.com/image...          FQQ   \n",
      "\n",
      "                                             feature  \\\n",
      "0  [Denim, Zipper closure, Material: cotton, Styl...   \n",
      "1  [Material:voile, Size: 180cm x 95cm, A scarf t...   \n",
      "2  [100% Polyester, We use comfortable tissue to ...   \n",
      "3  [100% Polyester, We use comfortable tissue to ...   \n",
      "4  [100% Polyester, We use comfortable tissue to ...   \n",
      "\n",
      "                                       rank  \\\n",
      "0  1,506,383 in Clothing, Shoes & Jewelry (   \n",
      "1    273,519 in Clothing, Shoes & Jewelry (   \n",
      "2  3,266,227 in Clothing, Shoes & Jewelry (   \n",
      "3    641,576 in Clothing, Shoes & Jewelry (   \n",
      "4  1,761,440 in Clothing, Shoes & Jewelry (   \n",
      "\n",
      "                                           also_view details  \\\n",
      "0  [B07H2Z6S9J, B077GQQKRV, B072XTTTK9, B002DMJOC...      {}   \n",
      "1  [B017M5BVXA, B00NSF70KM, B01LYRMI0Q, B017M55DI...      {}   \n",
      "2                                                 []      {}   \n",
      "3  [B074XSR8LC, B01MZITI8H, B07JMZDG8C, B01LY4VKT...      {}   \n",
      "4  [B00UHFS00K, B01EKRMG8C, B01AHZSZ9A, B06XY5N95...      {}   \n",
      "\n",
      "                                            main_cat similar_item  \\\n",
      "0  <img src=\"https://images-na.ssl-images-amazon....                \n",
      "1  <img src=\"https://images-na.ssl-images-amazon....                \n",
      "2  <img src=\"https://images-na.ssl-images-amazon....                \n",
      "3  <img src=\"https://images-na.ssl-images-amazon....                \n",
      "4  <img src=\"https://images-na.ssl-images-amazon....                \n",
      "\n",
      "                                                date   price        asin  \n",
      "0  <div class=\"a-fixed-left-grid a-spacing-none\">...  $38.99  6342509379  \n",
      "1  <div class=\"a-fixed-left-grid a-spacing-none\">...   $0.50  6342502315  \n",
      "2  <div class=\"a-fixed-left-grid a-spacing-none\">...   $2.80  6342522545  \n",
      "3  <div class=\"a-fixed-left-grid a-spacing-none\">...   $8.50  6342522898  \n",
      "4  <div class=\"a-fixed-left-grid a-spacing-none\">...   $4.50  6342523002  \n"
     ]
    }
   ],
   "source": [
    "import pandas as pd\n",
    "\n",
    "filename = 'data_.5.json'\n",
    "\n",
    "try:\n",
    "    # Load the entire file as a DataFrame\n",
    "    df = pd.read_json(filename, lines=True)  # Use lines=True if your JSON objects are separated by new lines\n",
    "    print(df.head())  # Show the first few entries in the DataFrame\n",
    "except ValueError as e:\n",
    "    print(\"Error reading JSON:\", e)\n",
    "\n"
   ]
  },
  {
   "cell_type": "code",
   "execution_count": 4,
   "metadata": {},
   "outputs": [
    {
     "name": "stdout",
     "output_type": "stream",
     "text": [
      "Batch preprocessing completed successfully!\n"
     ]
    }
   ],
   "source": [
    "import json\n",
    "\n",
    "# Function to clean text by removing special characters and extra spaces\n",
    "def clean_text(text):\n",
    "    if isinstance(text, str):\n",
    "        return ' '.join(text.replace('\\n', ' ').replace('\\r', ' ').split())\n",
    "    return None\n",
    "\n",
    "# Function to preprocess data\n",
    "def preprocess_data(item):\n",
    "    cleaned_item = {\n",
    "        \"asin\": item.get(\"asin\", None),\n",
    "        \"title\": clean_text(item.get(\"title\")),\n",
    "        \"features\": [clean_text(f) for f in item.get(\"feature\", [])] if isinstance(item.get(\"feature\"), list) else None,\n",
    "        \"description\": clean_text(item.get(\"description\")),\n",
    "        \"brand\": clean_text(item.get(\"brand\")),\n",
    "        \"categories\": item.get(\"categories\") if isinstance(item.get(\"categories\"), list) else None\n",
    "    }\n",
    "    return cleaned_item\n",
    "\n",
    "# Batch processing function\n",
    "def process_batches(input_file, output_file, batch_size=1000):\n",
    "    batch = []\n",
    "    asin_set = set()  # Set to keep track of unique asin values\n",
    "    with open(input_file, 'r', encoding='utf-8') as infile, open(output_file, 'w', encoding='utf-8') as outfile:\n",
    "        for line in infile:\n",
    "            item = json.loads(line)\n",
    "            preprocessed_item = preprocess_data(item)\n",
    "            if preprocessed_item['asin'] and preprocessed_item['title'] and preprocessed_item['asin'] not in asin_set:\n",
    "                batch.append(preprocessed_item)\n",
    "                asin_set.add(preprocessed_item['asin'])  # Add the asin to the set\n",
    "            \n",
    "            if len(batch) >= batch_size:\n",
    "                for item in batch:\n",
    "                    json.dump(item, outfile, ensure_ascii=False)\n",
    "                    outfile.write('\\n')\n",
    "                batch = []  # Reset the batch after processing\n",
    "\n",
    "        # Process the remaining batch\n",
    "        if batch:\n",
    "            for item in batch:\n",
    "                json.dump(item, outfile, ensure_ascii=False)\n",
    "                outfile.write('\\n')\n",
    "\n",
    "print(\"Batch preprocessing completed successfully!\")\n",
    "\n",
    "# Settings\n",
    "input_file = 'data_.5.json'\n",
    "output_file = 'preprocessed_updated_5.json'\n",
    "batch_size = 1000  # Define the batch size as required\n",
    "\n",
    "# Execute batch processing\n",
    "process_batches(input_file, output_file, batch_size)\n"
   ]
  }
 ],
 "metadata": {
  "kernelspec": {
   "display_name": "Python 3",
   "language": "python",
   "name": "python3"
  },
  "language_info": {
   "codemirror_mode": {
    "name": "ipython",
    "version": 3
   },
   "file_extension": ".py",
   "mimetype": "text/x-python",
   "name": "python",
   "nbconvert_exporter": "python",
   "pygments_lexer": "ipython3",
   "version": "3.10.12"
  }
 },
 "nbformat": 4,
 "nbformat_minor": 2
}
